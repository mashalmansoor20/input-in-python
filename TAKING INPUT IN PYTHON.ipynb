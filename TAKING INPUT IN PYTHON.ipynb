{
 "cells": [
  {
   "cell_type": "markdown",
   "metadata": {},
   "source": [
    "# TAKING INPUT IN PYTHON"
   ]
  },
  {
   "cell_type": "code",
   "execution_count": 1,
   "metadata": {},
   "outputs": [
    {
     "name": "stdout",
     "output_type": "stream",
     "text": [
      "enter your name?Mashal Mansoor\n",
      "your name is  Mashal Mansoor\n",
      "the len of your name is 28\n",
      "the ascii value of charactr M is 77\n",
      "the ascii value of charactr a is 97\n",
      "the ascii value of charactr s is 115\n",
      "the ascii value of charactr h is 104\n",
      "the ascii value of charactr a is 97\n",
      "the ascii value of charactr l is 108\n",
      "the ascii value of charactr   is 32\n",
      "the ascii value of charactr M is 77\n",
      "the ascii value of charactr a is 97\n",
      "the ascii value of charactr n is 110\n",
      "the ascii value of charactr s is 115\n",
      "the ascii value of charactr o is 111\n",
      "the ascii value of charactr o is 111\n",
      "the ascii value of charactr r is 114\n"
     ]
    }
   ],
   "source": [
    "str = input(\"enter your name?\")\n",
    "str2 = (\"your name is \")\n",
    "connect = str2 + ' '+ str\n",
    "print(connect)\n",
    "print(\"the len of your name is %d\" %(len(connect)))\n",
    "for i in range(0,len(str)):\n",
    "  print(\"the ascii value of charactr %c is %d\"%(str[i],ord(str[i])))"
   ]
  },
  {
   "cell_type": "code",
   "execution_count": 2,
   "metadata": {},
   "outputs": [
    {
     "name": "stdout",
     "output_type": "stream",
     "text": [
      "shop over 3000 and enjoy 10% disount\n",
      "number of t-shirts purchased:22\n",
      "number of normal shirts purchased:5\n",
      "number of wrist watches purchased:8\n",
      "total amount RS.3500\n",
      "customer provided RS.3500\n",
      "congratulations you have purchased item of over RS.3000,enjoy the 10% discount on total\n",
      "amount returned to customer: RS.350\n"
     ]
    }
   ],
   "source": [
    "print(\"shop over 3000 and enjoy 10% disount\")\n",
    "t_shirts = int(input(\"number of t-shirts purchased:\"))\n",
    "normal_shirts = int(input(\"number of normal shirts purchased:\"))\n",
    "wrist_watches = int(input(\"number of wrist watches purchased:\"))\n",
    "print(\"total amount RS.3500\")\n",
    "print(\"customer provided RS.3500\")\n",
    "print(\"congratulations you have purchased item of over RS.3000,enjoy the 10% discount on total\")\n",
    "print(\"amount returned to customer: RS.350\")"
   ]
  },
  {
   "cell_type": "code",
   "execution_count": null,
   "metadata": {},
   "outputs": [],
   "source": []
  }
 ],
 "metadata": {
  "kernelspec": {
   "display_name": "Python 3",
   "language": "python",
   "name": "python3"
  },
  "language_info": {
   "codemirror_mode": {
    "name": "ipython",
    "version": 3
   },
   "file_extension": ".py",
   "mimetype": "text/x-python",
   "name": "python",
   "nbconvert_exporter": "python",
   "pygments_lexer": "ipython3",
   "version": "3.7.3"
  }
 },
 "nbformat": 4,
 "nbformat_minor": 2
}
